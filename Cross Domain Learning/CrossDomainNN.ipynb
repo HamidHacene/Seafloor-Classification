{
 "cells": [
  {
   "cell_type": "code",
   "execution_count": 15,
   "metadata": {
    "collapsed": true
   },
   "outputs": [],
   "source": [
    "import numpy as np\n",
    "import h5py\n",
    "import matplotlib.pyplot as plt\n",
    "import scipy.io as sio\n",
    "\n",
    "import keras\n",
    "import keras.backend as K\n",
    "from keras.callbacks import ModelCheckpoint\n",
    "from keras.models import Model, Sequential\n",
    "from keras.layers.normalization import BatchNormalization\n",
    "from keras.layers import Input, Dense, Dropout, Conv1D, Flatten, MaxPooling1D, LeakyReLU, ELU\n",
    "from keras import regularizers , optimizers\n",
    "from keras.constraints import maxnorm\n",
    "\n",
    "from keras.utils import to_categorical"
   ]
  },
  {
   "cell_type": "code",
   "execution_count": 5,
   "metadata": {
    "collapsed": true
   },
   "outputs": [],
   "source": [
    "###############  1 - LOADING PORTION OF TRAINING AND DEV SET ############### \n",
    "## 1.1 - loading training set\n",
    "train = h5py.File('/floyd/input/echogrampreprocessed/EchogramPreprocessed.mat','r')\n",
    "label_train = np.array(train['label'])\n",
    "X_train = np.array(train['EchogramWithBottom'])"
   ]
  },
  {
   "cell_type": "code",
   "execution_count": 6,
   "metadata": {
    "collapsed": true
   },
   "outputs": [],
   "source": [
    "## 1.2 - Resizing the training set, \n",
    "# in fact there is too many pings ~2.3 million it won't fit into memory\n",
    "np.random.seed(7)\n",
    "m,_ = X_train.shape\n",
    "index = np.random.choice(m,500000,replace=False)\n",
    "label_train = label_train[index,:]\n",
    "X_train = X_train[index,:]"
   ]
  },
  {
   "cell_type": "code",
   "execution_count": 7,
   "metadata": {
    "collapsed": true
   },
   "outputs": [],
   "source": [
    "## 1.3 - Preprocessing step\n",
    "# Replacing Nan with -200\n",
    "X_train = np.add(np.nan_to_num(X_train),np.isnan(X_train) * -200)"
   ]
  },
  {
   "cell_type": "code",
   "execution_count": 4,
   "metadata": {
    "collapsed": true
   },
   "outputs": [],
   "source": [
    "## 1.4 - loading development set\n",
    "dev = sio.loadmat('/floyd/input/devset/EchogramDev.mat')\n",
    "X = np.array(dev['Echogram'])\n",
    "label = np.array(dev['label'])\n",
    "\n",
    "# Replacing Nan with -200\n",
    "X = np.add(np.nan_to_num(X), np.isnan(X) * -200)\n",
    "\n",
    "# We select 50,000 examples from the development set to inject it into the\n",
    "# training set so that the model learn from a cross domain data set\n",
    "X1 = X[:50000,:]\n",
    "label1 = label[:50000,:]\n",
    "\n",
    "# In the same time we reform another development set \n",
    "# Hence the portion X1, label1 will go into the new set cross domain training set X_cd_train\n",
    "# But we still need a development set to evaluate our model, that's the purpose of X_dev, label_dev\n",
    "X_dev = X[50000:,:]\n",
    "label_dev = label[50000:,:]\n",
    "m_dev,_ = X_dev.shape\n",
    "belong_dev = np.zeros(m_dev)"
   ]
  },
  {
   "cell_type": "code",
   "execution_count": 8,
   "metadata": {
    "collapsed": true
   },
   "outputs": [],
   "source": [
    "############### 2 - MERGE AND RESHAPE THE TWO DATASETS  ############### \n",
    "#### 2.1 - Create a belong label\n",
    "# We need to know wether a ping belong to the training set or\n",
    "# to the development set, since we don't have the same number of pings\n",
    "# 500K for the training set and 50K for the development set\n",
    "# we want to be able to distinguish each ping so that the pings from the \n",
    "# development set are more penalized.\n",
    "\n",
    "\n",
    "m_train,_ = X_train.shape\n",
    "m1,_ = X1.shape\n",
    "\n",
    "# The a ping has belong = 1 if it was in the training set before\n",
    "# and 0 if not\n",
    "belong_cd_train = np.zeros(m_train+m1) \n",
    "belong_cd_train[:m_train] = 1\n",
    "\n",
    "#### 2.2 - Now we merge the all files\n",
    "X_cd_train = np.concatenate((X_train,X1),axis=0)\n",
    "label_cd_train = np.concatenate((label_train,label1),axis=0)"
   ]
  },
  {
   "cell_type": "code",
   "execution_count": 9,
   "metadata": {
    "collapsed": true
   },
   "outputs": [],
   "source": [
    "## 2.3 - Reshaping the data to feed the convolutional neural network\n",
    "# Reshaping the training data\n",
    "m_cd_train,n = X_cd_train.shape\n",
    "X_cd_train = X_cd_train.reshape(m_cd_train,n,1)\n",
    "\n",
    "# Reshaping the dev set\n",
    "X_dev = X_dev.reshape(m_dev,n,1)\n",
    "\n",
    "# Preparing the labels in a categorical form: \n",
    "# each class is a vector either [1,0] or [0,1]\n",
    "Y_cd_train = to_categorical(label_cd_train)\n",
    "Y_cd_train = Y_cd_train[:,1:]\n",
    "Y_dev =  to_categorical(label_dev)\n",
    "Y_dev =  Y_dev[:,1:]\n"
   ]
  },
  {
   "cell_type": "code",
   "execution_count": 10,
   "metadata": {
    "collapsed": true
   },
   "outputs": [],
   "source": [
    "############### 3 - DEFINING OUR MODEL ############### \n",
    "## 3.1 - Defining the Cross Domain Learning Function\n",
    "## You can check how the function look in the presentation\n",
    "def CDloss(belong,beta):\n",
    "    def loss(y_true, y_pred):\n",
    "         return K.mean(belong*K.binary_crossentropy(y_true, y_pred) + beta*(1-belong)* K.binary_crossentropy(y_true, y_pred))\n",
    "    return loss"
   ]
  },
  {
   "cell_type": "code",
   "execution_count": 11,
   "metadata": {
    "collapsed": true
   },
   "outputs": [],
   "source": [
    "## 3.2 Defining our model\n",
    "\n",
    "def CrossDomainNN(kernel_1, kernel_2, kernel_3, no_unit1, no_unit2, no_unit3, dropout1, dropout2):\n",
    "    ## Input Layer\n",
    "    inputs = Input(shape=(2550,1))\n",
    "    belong = Input(shape=(1,))\n",
    "    \n",
    "    ## 1st Conv Layer\n",
    "    x = Conv1D(filters=1, kernel_size=kernel_1, kernel_initializer=\"normal\", strides=2, activation='selu')(inputs)\n",
    "    x = BatchNormalization(axis=-1)(x)\n",
    "    x = MaxPooling1D(pool_size=kernel_1, strides=1, padding='valid')(x)\n",
    "    \n",
    "    ## 2nd Conv Layer\n",
    "    x = Conv1D(filters=1, kernel_size=kernel_2, kernel_initializer=\"normal\", strides=1, activation='selu')(x)\n",
    "    x = BatchNormalization(axis=-1)(x)\n",
    "    x = MaxPooling1D(pool_size=kernel_2, strides=1, padding='valid')(x) \n",
    "    \n",
    "    ## 3rd Conv Layer\n",
    "    x = Conv1D(filters=1, kernel_size=kernel_3, kernel_initializer=\"normal\", strides=1, activation='selu')(x)\n",
    "    x = BatchNormalization(axis=-1)(x)\n",
    "    x = MaxPooling1D(pool_size=kernel_3, strides=1, padding='valid')(x) \n",
    "    x = Flatten()(x)\n",
    "    \n",
    "    ## Fully Connected Layers\n",
    "    x = Dropout(dropout1)(x)\n",
    "    x = Dense(no_unit1,kernel_initializer=\"normal\", bias_initializer='zeros', activation='selu',kernel_constraint=maxnorm(3))(x)\n",
    "    x = Dropout(dropout2)(x)\n",
    "    x = Dense(no_unit2,kernel_initializer=\"normal\", bias_initializer='zeros', activation='selu',kernel_constraint=maxnorm(3))(x) \n",
    "    x = Dense(no_unit3,kernel_initializer=\"normal\", bias_initializer='zeros', activation='selu',kernel_constraint=maxnorm(3))(x)\n",
    "    predictions = Dense(2, kernel_initializer=\"normal\", bias_initializer='zeros', activation='sigmoid')(x)\n",
    "    \n",
    "    ## Getting the model\n",
    "    model = Model(inputs=[inputs,belong], outputs = predictions)\n",
    "    model.compile(optimizer='adam', loss=CDloss(belong,beta = 10), metrics=['accuracy'])\n",
    "    return model"
   ]
  },
  {
   "cell_type": "code",
   "execution_count": 13,
   "metadata": {},
   "outputs": [
    {
     "name": "stdout",
     "output_type": "stream",
     "text": [
      "WARNING:tensorflow:From /usr/local/lib/python3.6/site-packages/tensorflow/python/util/deprecation.py:497: calling conv1d (from tensorflow.python.ops.nn_ops) with data_format=NHWC is deprecated and will be removed in a future version.\n",
      "Instructions for updating:\n",
      "`NHWC` for data_format is deprecated, use `NWC` instead\n",
      "_________________________________________________________________\n",
      "Layer (type)                 Output Shape              Param #   \n",
      "=================================================================\n",
      "input_1 (InputLayer)         (None, 2550, 1)           0         \n",
      "_________________________________________________________________\n",
      "conv1d_1 (Conv1D)            (None, 1248, 1)           57        \n",
      "_________________________________________________________________\n",
      "batch_normalization_1 (Batch (None, 1248, 1)           4         \n",
      "_________________________________________________________________\n",
      "max_pooling1d_1 (MaxPooling1 (None, 1193, 1)           0         \n",
      "_________________________________________________________________\n",
      "conv1d_2 (Conv1D)            (None, 1140, 1)           55        \n",
      "_________________________________________________________________\n",
      "batch_normalization_2 (Batch (None, 1140, 1)           4         \n",
      "_________________________________________________________________\n",
      "max_pooling1d_2 (MaxPooling1 (None, 1087, 1)           0         \n",
      "_________________________________________________________________\n",
      "conv1d_3 (Conv1D)            (None, 1075, 1)           14        \n",
      "_________________________________________________________________\n",
      "batch_normalization_3 (Batch (None, 1075, 1)           4         \n",
      "_________________________________________________________________\n",
      "max_pooling1d_3 (MaxPooling1 (None, 1063, 1)           0         \n",
      "_________________________________________________________________\n",
      "flatten_1 (Flatten)          (None, 1063)              0         \n",
      "_________________________________________________________________\n",
      "dropout_1 (Dropout)          (None, 1063)              0         \n",
      "_________________________________________________________________\n",
      "dense_1 (Dense)              (None, 303)               322392    \n",
      "_________________________________________________________________\n",
      "dropout_2 (Dropout)          (None, 303)               0         \n",
      "_________________________________________________________________\n",
      "dense_2 (Dense)              (None, 202)               61408     \n",
      "_________________________________________________________________\n",
      "dense_3 (Dense)              (None, 81)                16443     \n",
      "_________________________________________________________________\n",
      "dense_4 (Dense)              (None, 2)                 164       \n",
      "=================================================================\n",
      "Total params: 400,545\n",
      "Trainable params: 400,539\n",
      "Non-trainable params: 6\n",
      "_________________________________________________________________\n"
     ]
    }
   ],
   "source": [
    "cdnn = CrossDomainNN(56, 54, 13,303, 202,  81, 0.5, 0.6)\n",
    "cdnn.summary()"
   ]
  },
  {
   "cell_type": "code",
   "execution_count": 16,
   "metadata": {
    "scrolled": true
   },
   "outputs": [
    {
     "name": "stdout",
     "output_type": "stream",
     "text": [
      "Train on 550000 samples, validate on 50000 samples\n",
      "Epoch 1/50\n",
      "550000/550000 [==============================] - 73s 133us/step - loss: 0.3366 - acc: 0.8755 - val_loss: 0.8695 - val_acc: 0.9858\n",
      "\n",
      "Epoch 00001: val_acc improved from -inf to 0.98582, saving model to CDNN_weights.hdf5\n",
      "Epoch 2/50\n",
      "550000/550000 [==============================] - 32s 58us/step - loss: 0.2762 - acc: 0.8864 - val_loss: 1.0424 - val_acc: 0.9858\n",
      "\n",
      "Epoch 00002: val_acc did not improve from 0.98582\n",
      "Epoch 3/50\n",
      "550000/550000 [==============================] - 32s 58us/step - loss: 0.2733 - acc: 0.8888 - val_loss: 5.5233 - val_acc: 0.9246\n",
      "\n",
      "Epoch 00003: val_acc did not improve from 0.98582\n",
      "Epoch 4/50\n",
      "550000/550000 [==============================] - 32s 58us/step - loss: 0.2687 - acc: 0.8905 - val_loss: 11.0440 - val_acc: 0.2450\n",
      "\n",
      "Epoch 00004: val_acc did not improve from 0.98582\n",
      "Epoch 5/50\n",
      "550000/550000 [==============================] - 32s 58us/step - loss: 0.2561 - acc: 0.8929 - val_loss: 6.0494 - val_acc: 0.8244\n",
      "\n",
      "Epoch 00005: val_acc did not improve from 0.98582\n",
      "Epoch 6/50\n",
      "550000/550000 [==============================] - 32s 58us/step - loss: 0.2413 - acc: 0.8974 - val_loss: 18.6578 - val_acc: 0.0494\n",
      "\n",
      "Epoch 00006: val_acc did not improve from 0.98582\n",
      "Epoch 7/50\n",
      "550000/550000 [==============================] - 32s 58us/step - loss: 0.2260 - acc: 0.9025 - val_loss: 12.4977 - val_acc: 0.2786\n",
      "\n",
      "Epoch 00007: val_acc did not improve from 0.98582\n",
      "Epoch 8/50\n",
      "550000/550000 [==============================] - 32s 58us/step - loss: 0.2188 - acc: 0.9068 - val_loss: 10.3860 - val_acc: 0.5485\n",
      "\n",
      "Epoch 00008: val_acc did not improve from 0.98582\n",
      "Epoch 9/50\n",
      "550000/550000 [==============================] - 32s 58us/step - loss: 0.2191 - acc: 0.9069 - val_loss: 8.2151 - val_acc: 0.6087\n",
      "\n",
      "Epoch 00009: val_acc did not improve from 0.98582\n",
      "Epoch 10/50\n",
      "550000/550000 [==============================] - 32s 58us/step - loss: 0.2109 - acc: 0.9116 - val_loss: 9.1672 - val_acc: 0.5962\n",
      "\n",
      "Epoch 00010: val_acc did not improve from 0.98582\n",
      "Epoch 11/50\n",
      "550000/550000 [==============================] - 32s 58us/step - loss: 0.2075 - acc: 0.9144 - val_loss: 6.8310 - val_acc: 0.6560\n",
      "\n",
      "Epoch 00011: val_acc did not improve from 0.98582\n",
      "Epoch 12/50\n",
      "550000/550000 [==============================] - 32s 58us/step - loss: 0.2060 - acc: 0.9163 - val_loss: 0.7139 - val_acc: 0.9594\n",
      "\n",
      "Epoch 00012: val_acc did not improve from 0.98582\n",
      "Epoch 13/50\n",
      "550000/550000 [==============================] - 32s 58us/step - loss: 0.2040 - acc: 0.9176 - val_loss: 7.0253 - val_acc: 0.7241\n",
      "\n",
      "Epoch 00013: val_acc did not improve from 0.98582\n",
      "Epoch 14/50\n",
      "550000/550000 [==============================] - 32s 58us/step - loss: 0.2015 - acc: 0.9196 - val_loss: 6.7158 - val_acc: 0.6911\n",
      "\n",
      "Epoch 00014: val_acc did not improve from 0.98582\n",
      "Epoch 15/50\n",
      "550000/550000 [==============================] - 32s 58us/step - loss: 0.1991 - acc: 0.9210 - val_loss: 0.6156 - val_acc: 0.9675\n",
      "\n",
      "Epoch 00015: val_acc did not improve from 0.98582\n",
      "Epoch 16/50\n",
      "550000/550000 [==============================] - 32s 58us/step - loss: 0.1974 - acc: 0.9219 - val_loss: 0.7391 - val_acc: 0.9591\n",
      "\n",
      "Epoch 00016: val_acc did not improve from 0.98582\n",
      "Epoch 17/50\n",
      "550000/550000 [==============================] - 32s 58us/step - loss: 0.1956 - acc: 0.9230 - val_loss: 6.2896 - val_acc: 0.7213\n",
      "\n",
      "Epoch 00017: val_acc did not improve from 0.98582\n",
      "Epoch 18/50\n",
      "550000/550000 [==============================] - 32s 58us/step - loss: 0.1948 - acc: 0.9233 - val_loss: 0.8810 - val_acc: 0.9519\n",
      "\n",
      "Epoch 00018: val_acc did not improve from 0.98582\n",
      "Epoch 19/50\n",
      "550000/550000 [==============================] - 32s 58us/step - loss: 0.1917 - acc: 0.9249 - val_loss: 4.9670 - val_acc: 0.7871\n",
      "\n",
      "Epoch 00021: val_acc did not improve from 0.98582\n",
      "Epoch 22/50\n",
      "550000/550000 [==============================] - 32s 58us/step - loss: 0.1915 - acc: 0.9247 - val_loss: 0.5201 - val_acc: 0.9726\n",
      "\n",
      "Epoch 00022: val_acc did not improve from 0.98582\n",
      "Epoch 23/50\n",
      "550000/550000 [==============================] - 32s 58us/step - loss: 0.1889 - acc: 0.9265 - val_loss: 0.7559 - val_acc: 0.9613\n",
      "\n",
      "Epoch 00023: val_acc did not improve from 0.98582\n",
      "Epoch 24/50\n",
      "550000/550000 [==============================] - 32s 58us/step - loss: 0.1892 - acc: 0.9264 - val_loss: 0.7209 - val_acc: 0.9627\n",
      "\n",
      "Epoch 00024: val_acc did not improve from 0.98582\n",
      "Epoch 25/50\n",
      "550000/550000 [==============================] - 32s 59us/step - loss: 0.1878 - acc: 0.9271 - val_loss: 2.1015 - val_acc: 0.8804\n",
      "\n",
      "Epoch 00025: val_acc did not improve from 0.98582\n",
      "Epoch 26/50\n",
      "550000/550000 [==============================] - 32s 59us/step - loss: 0.1868 - acc: 0.9280 - val_loss: 0.8099 - val_acc: 0.9589\n",
      "\n",
      "Epoch 00026: val_acc did not improve from 0.98582\n",
      "Epoch 27/50\n",
      "550000/550000 [==============================] - 32s 58us/step - loss: 0.1859 - acc: 0.9284 - val_loss: 0.7013 - val_acc: 0.9643\n",
      "\n",
      "Epoch 00027: val_acc did not improve from 0.98582\n",
      "Epoch 28/50\n",
      "550000/550000 [==============================] - 32s 58us/step - loss: 0.1849 - acc: 0.9284 - val_loss: 0.6055 - val_acc: 0.9675\n",
      "\n",
      "Epoch 00028: val_acc did not improve from 0.98582\n",
      "Epoch 29/50\n",
      "550000/550000 [==============================] - 32s 58us/step - loss: 0.1842 - acc: 0.9292 - val_loss: 0.6673 - val_acc: 0.9660\n",
      "\n",
      "Epoch 00029: val_acc did not improve from 0.98582\n",
      "Epoch 30/50\n",
      "550000/550000 [==============================] - 32s 58us/step - loss: 0.1816 - acc: 0.9306 - val_loss: 0.5789 - val_acc: 0.9695\n",
      "\n",
      "Epoch 00033: val_acc did not improve from 0.98582\n",
      "Epoch 34/50\n",
      "550000/550000 [==============================] - 32s 58us/step - loss: 0.1810 - acc: 0.9311 - val_loss: 0.7658 - val_acc: 0.9619\n",
      "\n",
      "Epoch 00034: val_acc did not improve from 0.98582\n",
      "Epoch 35/50\n",
      "550000/550000 [==============================] - 32s 58us/step - loss: 0.1806 - acc: 0.9314 - val_loss: 0.7192 - val_acc: 0.9622\n",
      "\n",
      "Epoch 00035: val_acc did not improve from 0.98582\n",
      "Epoch 36/50\n",
      "550000/550000 [==============================] - 32s 58us/step - loss: 0.1803 - acc: 0.9314 - val_loss: 0.4856 - val_acc: 0.9754\n",
      "\n",
      "Epoch 00036: val_acc did not improve from 0.98582\n",
      "Epoch 37/50\n",
      "550000/550000 [==============================] - 32s 58us/step - loss: 0.1783 - acc: 0.9330 - val_loss: 0.5403 - val_acc: 0.9723\n",
      "\n",
      "Epoch 00039: val_acc did not improve from 0.98582\n",
      "Epoch 40/50\n",
      "550000/550000 [==============================] - 32s 58us/step - loss: 0.1782 - acc: 0.9330 - val_loss: 0.5237 - val_acc: 0.9736\n",
      "\n",
      "Epoch 00040: val_acc did not improve from 0.98582\n",
      "Epoch 41/50\n",
      "550000/550000 [==============================] - 32s 58us/step - loss: 0.1770 - acc: 0.9332 - val_loss: 0.6421 - val_acc: 0.9682\n",
      "\n",
      "Epoch 00041: val_acc did not improve from 0.98582\n",
      "Epoch 42/50\n",
      "550000/550000 [==============================] - 32s 58us/step - loss: 0.1757 - acc: 0.9337 - val_loss: 0.4182 - val_acc: 0.9793\n",
      "\n",
      "Epoch 00042: val_acc did not improve from 0.98582\n",
      "Epoch 43/50\n",
      "550000/550000 [==============================] - 32s 58us/step - loss: 0.1770 - acc: 0.9334 - val_loss: 0.5687 - val_acc: 0.9701\n",
      "\n",
      "Epoch 00043: val_acc did not improve from 0.98582\n",
      "Epoch 44/50\n",
      "550000/550000 [==============================] - 32s 58us/step - loss: 0.1750 - acc: 0.9345 - val_loss: 0.5734 - val_acc: 0.9717\n",
      "\n",
      "Epoch 00044: val_acc did not improve from 0.98582\n",
      "Epoch 45/50\n",
      "550000/550000 [==============================] - 32s 58us/step - loss: 0.1755 - acc: 0.9345 - val_loss: 0.6890 - val_acc: 0.9663\n",
      "\n",
      "Epoch 00045: val_acc did not improve from 0.98582\n",
      "Epoch 46/50\n",
      "550000/550000 [==============================] - 32s 58us/step - loss: 0.1740 - acc: 0.9347 - val_loss: 0.5685 - val_acc: 0.9719\n",
      "\n",
      "Epoch 00046: val_acc did not improve from 0.98582\n",
      "Epoch 47/50\n",
      "550000/550000 [==============================] - 32s 58us/step - loss: 0.1737 - acc: 0.9355 - val_loss: 0.5104 - val_acc: 0.9748\n",
      "\n",
      "Epoch 00047: val_acc did not improve from 0.98582\n",
      "Epoch 48/50\n",
      "550000/550000 [==============================] - 32s 58us/step - loss: 0.1742 - acc: 0.9350 - val_loss: 0.5023 - val_acc: 0.9753\n",
      "\n",
      "Epoch 00048: val_acc did not improve from 0.98582\n",
      "Epoch 49/50\n",
      "550000/550000 [==============================] - 32s 58us/step - loss: 0.1736 - acc: 0.9352 - val_loss: 0.5965 - val_acc: 0.9714\n",
      "\n",
      "Epoch 00049: val_acc did not improve from 0.98582\n",
      "Epoch 50/50\n",
      "550000/550000 [==============================] - 32s 58us/step - loss: 0.1728 - acc: 0.9359 - val_loss: 0.4565 - val_acc: 0.9787\n",
      "\n",
      "Epoch 00050: val_acc did not improve from 0.98582\n",
      "CPU times: user 13min 37s, sys: 7min 2s, total: 20min 39s\n",
      "Wall time: 27min 26s\n"
     ]
    }
   ],
   "source": [
    "%%time\n",
    "filepath=\"CDNN_weights.hdf5\"\n",
    "checkpoint = ModelCheckpoint(filepath, monitor='val_acc', verbose=1, save_best_only=True, mode='max')\n",
    "callbacks_list = [checkpoint]\n",
    "history = cdnn.fit([X_cd_train,belong_cd_train], Y_cd_train, validation_data = ([X_dev,belong_dev],Y_dev), epochs = 50, callbacks=callbacks_list, batch_size = 8192, shuffle = True)"
   ]
  },
  {
   "cell_type": "code",
   "execution_count": 17,
   "metadata": {},
   "outputs": [
    {
     "data": {
      "image/png": "[encoded data removed]",
      "text/plain": [
       "<Figure size 432x288 with 1 Axes>"
      ]
     },
     "metadata": {},
     "output_type": "display_data"
    }
   ],
   "source": [
    "############### 4 - RESULTS ############### \n",
    "## Diagnosing the learning phase\n",
    "losses = history.history[\"loss\"]\n",
    "epoch = history.epoch\n",
    "plt.xlabel('Epoch')\n",
    "plt.ylabel('Losses')\n",
    "plt.scatter(epoch, losses)\n",
    "plt.show()"
   ]
  },
  {
   "cell_type": "code",
   "execution_count": 18,
   "metadata": {},
   "outputs": [
    {
     "data": {
      "image/png": "[encoded data removed]",
      "text/plain": [
       "<Figure size 432x288 with 1 Axes>"
      ]
     },
     "metadata": {},
     "output_type": "display_data"
    }
   ],
   "source": [
    "## Diagnosing the learning phase\n",
    "losses = history.history[\"val_loss\"]\n",
    "epoch = history.epoch\n",
    "plt.xlabel('Epoch')\n",
    "plt.ylabel('Validation Loss')\n",
    "plt.scatter(epoch, losses)\n",
    "plt.show()"
   ]
  },
  {
   "cell_type": "code",
   "execution_count": 19,
   "metadata": {},
   "outputs": [
    {
     "data": {
      "image/png": "[encoded data removed]",
      "text/plain": [
       "<Figure size 432x288 with 1 Axes>"
      ]
     },
     "metadata": {},
     "output_type": "display_data"
    }
   ],
   "source": [
    "# Plot the accuracies\n",
    "acc = history.history[\"acc\"]\n",
    "epoch = history.epoch\n",
    "plt.xlabel('Epoch')\n",
    "plt.ylabel('Accuracy')\n",
    "plt.scatter(epoch, acc)\n",
    "plt.title('Evolution of accuracy per epoch')\n",
    "plt.show()"
   ]
  },
  {
   "cell_type": "code",
   "execution_count": 20,
   "metadata": {},
   "outputs": [
    {
     "data": {
      "image/png": "[encoded data removed]",
      "text/plain": [
       "<Figure size 432x288 with 1 Axes>"
      ]
     },
     "metadata": {},
     "output_type": "display_data"
    }
   ],
   "source": [
    "# Plot the accuracies\n",
    "acc = history.history[\"val_acc\"]\n",
    "epoch = history.epoch\n",
    "plt.xlabel('Epoch')\n",
    "plt.ylabel('Validation Accuracy')\n",
    "plt.scatter(epoch, acc)\n",
    "plt.title('Evolution of accuracy per epoch')\n",
    "plt.show()"
   ]
  },
  {
   "cell_type": "code",
   "execution_count": 21,
   "metadata": {},
   "outputs": [
    {
     "name": "stdout",
     "output_type": "stream",
     "text": [
      "550000/550000 [==============================] - 16s 29us/step\n",
      "50000/50000 [==============================] - 2s 37us/step\n",
      "training error: [0.17941622887437994, 0.9364490909229626]\n",
      "validation error: [0.4564550179862976, 0.9787400004196167]\n"
     ]
    }
   ],
   "source": [
    "training_error = cdnn.evaluate([X_cd_train,belong_cd_train],Y_cd_train, batch_size = 8192)\n",
    "validation_error = cdnn.evaluate([X_dev,belong_dev],Y_dev, batch_size = 8192)\n",
    "print(\"training error:\", training_error)\n",
    "print(\"validation error:\", validation_error)"
   ]
  },
  {
   "cell_type": "code",
   "execution_count": 22,
   "metadata": {
    "collapsed": true
   },
   "outputs": [],
   "source": [
    "cdnn.save('CDNN_final.h5')\n",
    "training = history.history\n",
    "sio.savemat('CDNN_history.mat', training)"
   ]
  },
  {
   "cell_type": "code",
   "execution_count": null,
   "metadata": {
    "collapsed": true
   },
   "outputs": [],
   "source": []
  }
 ],
 "metadata": {
  "kernelspec": {
   "display_name": "Python 3",
   "language": "python",
   "name": "python3"
  },
  "language_info": {
   "codemirror_mode": {
    "name": "ipython",
    "version": 3
   },
   "file_extension": ".py",
   "mimetype": "text/x-python",
   "name": "python",
   "nbconvert_exporter": "python",
   "pygments_lexer": "ipython3",
   "version": "3.6.3"
  }
 },
 "nbformat": 4,
 "nbformat_minor": 2
}
