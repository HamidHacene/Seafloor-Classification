{
 "cells": [
  {
   "cell_type": "code",
   "execution_count": 1,
   "metadata": {},
   "outputs": [
    {
     "name": "stderr",
     "output_type": "stream",
     "text": [
      "Using TensorFlow backend.\n"
     ]
    }
   ],
   "source": [
    "########## 0 - Importing relevant libraries\n",
    "import h5py\n",
    "import sklearn\n",
    "import matplotlib.pyplot as plt\n",
    "\n",
    "from keras.constraints import maxnorm\n",
    "from keras.callbacks import ModelCheckpoint\n",
    "\n",
    "import numpy as np\n",
    "import keras\n",
    "from keras.utils import to_categorical\n",
    "from keras.models import Sequential\n",
    "from keras.layers import Dense, Dropout \n",
    "from keras.layers.normalization import BatchNormalization\n",
    "from keras.layers import Dense, Dropout, Conv1D, Flatten, MaxPooling1D \n",
    "from keras import initializers\n",
    "from keras import regularizers , optimizers\n",
    "import scipy.io as sio"
   ]
  },
  {
   "cell_type": "code",
   "execution_count": 6,
   "metadata": {
    "collapsed": true
   },
   "outputs": [],
   "source": [
    "###############  1 - LOADING PORTION OF TRAINING AND DEV SET ############### \n",
    "## loading training set\n",
    "train = h5py.File('/floyd/input/echogrampreprocessed/EchogramPreprocessed.mat','r')\n",
    "label_train = np.array(train['label'])\n",
    "X_train = np.array(train['EchogramWithBottom'])"
   ]
  },
  {
   "cell_type": "code",
   "execution_count": 8,
   "metadata": {
    "collapsed": true
   },
   "outputs": [],
   "source": [
    "## 1.2 - Resizing the training set, \n",
    "# in fact there is too many pings ~2.3 million it won't fit into memorynp.random.seed(7)\n",
    "m,_ = X_train.shape\n",
    "index = np.random.choice(m,500000,replace=False)\n",
    "label_train = label_train[index,:]\n",
    "X_train = X_train[index,:]"
   ]
  },
  {
   "cell_type": "code",
   "execution_count": 9,
   "metadata": {
    "collapsed": true
   },
   "outputs": [],
   "source": [
    "## 1.3 - Preprocessing step\n",
    "# Replacing Nan with -200\n",
    "X_train = np.add(np.nan_to_num(X_train),np.isnan(X_train) * -200)"
   ]
  },
  {
   "cell_type": "code",
   "execution_count": 2,
   "metadata": {
    "collapsed": true
   },
   "outputs": [],
   "source": [
    "## 1.4 - loading development set\n",
    "dev = sio.loadmat('/floyd/input/devset/EchogramDev.mat')\n",
    "X_dev = np.array(dev['Echogram'])\n",
    "label_dev = np.array(dev['label'])\n",
    "\n",
    "# Replacing Nan with -200\n",
    "X_dev = np.add(np.nan_to_num(X_dev), np.isnan(X_dev) * -200)"
   ]
  },
  {
   "cell_type": "code",
   "execution_count": 10,
   "metadata": {
    "collapsed": true
   },
   "outputs": [],
   "source": [
    "############### 2 - RESHAPE THE TWO DATASETS  ############### \n",
    "##  Reshaping the data to feed the convolutional neural network\n",
    "m_train,n = X_train.shape\n",
    "m_dev,n = X_dev.shape\n",
    "X_train = X_train.reshape(m_train,n,1)\n",
    "X_dev = X_dev.reshape(m_dev,n,1)\n",
    "\n",
    "Y_train = to_categorical(label_train)\n",
    "Y_train = Y_train[:,1:]\n",
    "\n",
    "Y_dev =  to_categorical(label_dev)\n",
    "Y_dev =  Y_dev[:,1:]"
   ]
  },
  {
   "cell_type": "code",
   "execution_count": 15,
   "metadata": {
    "collapsed": true
   },
   "outputs": [],
   "source": [
    "############### 3 - DEFINING OUR MODEL ############### \n",
    "def variable_CNN(kernel_1, kernel_2, kernel_3, no_unit1, no_unit2, no_unit3, dropout1, dropout2):\n",
    "    # create model\n",
    "    model = Sequential()\n",
    "    ## 1st Conv Layer\n",
    "    model.add(Conv1D(input_shape=[2550,1], filters=1, kernel_size=kernel_1, strides=2, activation='selu'))\n",
    "    model.add(BatchNormalization(axis=-1))\n",
    "    model.add(MaxPooling1D(pool_size=kernel_1, strides=1, padding='valid'))  \n",
    "    ## 2nd Conv Layer\n",
    "    model.add(Conv1D(filters=1, kernel_size=kernel_2, strides=1, activation='selu'))\n",
    "    model.add(BatchNormalization(axis=-1))\n",
    "    model.add(MaxPooling1D(pool_size=kernel_2, strides=1, padding='valid')) \n",
    "    ## 3rd Conv Layer\n",
    "    model.add(Conv1D(filters=1, kernel_size=kernel_3, strides=1, activation='selu'))\n",
    "    model.add(BatchNormalization(axis=-1))\n",
    "    model.add(MaxPooling1D(pool_size=kernel_3, strides=1, padding='valid')) \n",
    "    model.add(Flatten())\n",
    "    model.add(Dropout(dropout1))\n",
    "    model.add(Dense(no_unit1,kernel_initializer=\"normal\", bias_initializer='zeros', activation='selu', kernel_constraint=maxnorm(3)))\n",
    "    model.add(Dropout(dropout2))\n",
    "    model.add(Dense(no_unit2,kernel_initializer=\"normal\", bias_initializer='zeros', activation='selu', kernel_constraint=maxnorm(3)))\n",
    "    model.add(Dense(no_unit3,kernel_initializer=\"normal\", bias_initializer='zeros', activation='selu', kernel_constraint=maxnorm(3)))\n",
    "    model.add(Dense(2, kernel_initializer=\"normal\", bias_initializer='zeros', activation='sigmoid')) \n",
    "    # Custom optimizer\n",
    "\t# Compile model\n",
    "    model.compile(loss='binary_crossentropy', optimizer = 'adam', metrics=['accuracy'])\n",
    "    return model "
   ]
  },
  {
   "cell_type": "code",
   "execution_count": 13,
   "metadata": {},
   "outputs": [
    {
     "name": "stdout",
     "output_type": "stream",
     "text": [
      "_________________________________________________________________\n",
      "Layer (type)                 Output Shape              Param #   \n",
      "=================================================================\n",
      "conv1d_4 (Conv1D)            (None, 1248, 1)           57        \n",
      "_________________________________________________________________\n",
      "batch_normalization_4 (Batch (None, 1248, 1)           4         \n",
      "_________________________________________________________________\n",
      "max_pooling1d_4 (MaxPooling1 (None, 1193, 1)           0         \n",
      "_________________________________________________________________\n",
      "conv1d_5 (Conv1D)            (None, 1140, 1)           55        \n",
      "_________________________________________________________________\n",
      "batch_normalization_5 (Batch (None, 1140, 1)           4         \n",
      "_________________________________________________________________\n",
      "max_pooling1d_5 (MaxPooling1 (None, 1087, 1)           0         \n",
      "_________________________________________________________________\n",
      "conv1d_6 (Conv1D)            (None, 1075, 1)           14        \n",
      "_________________________________________________________________\n",
      "batch_normalization_6 (Batch (None, 1075, 1)           4         \n",
      "_________________________________________________________________\n",
      "max_pooling1d_6 (MaxPooling1 (None, 1063, 1)           0         \n",
      "_________________________________________________________________\n",
      "flatten_2 (Flatten)          (None, 1063)              0         \n",
      "_________________________________________________________________\n",
      "dropout_3 (Dropout)          (None, 1063)              0         \n",
      "_________________________________________________________________\n",
      "dense_5 (Dense)              (None, 303)               322392    \n",
      "_________________________________________________________________\n",
      "dropout_4 (Dropout)          (None, 303)               0         \n",
      "_________________________________________________________________\n",
      "dense_6 (Dense)              (None, 202)               61408     \n",
      "_________________________________________________________________\n",
      "dense_7 (Dense)              (None, 81)                16443     \n",
      "_________________________________________________________________\n",
      "dense_8 (Dense)              (None, 2)                 164       \n",
      "=================================================================\n",
      "Total params: 400,545\n",
      "Trainable params: 400,539\n",
      "Non-trainable params: 6\n",
      "_________________________________________________________________\n"
     ]
    }
   ],
   "source": [
    "vcnn = variable_CNN(56, 54, 13,303, 202,  81, 0.5, 0.6)\n",
    "vcnn.summary()"
   ]
  },
  {
   "cell_type": "code",
   "execution_count": 16,
   "metadata": {
    "scrolled": true
   },
   "outputs": [
    {
     "name": "stdout",
     "output_type": "stream",
     "text": [
      "Train on 500000 samples, validate on 100000 samples\n",
      "Epoch 1/50\n",
      "500000/500000 [==============================] - 83s 166us/step - loss: 0.2731 - acc: 0.8821 - val_loss: 0.1230 - val_acc: 0.9267\n",
      "\n",
      "Epoch 00001: val_acc improved from -inf to 0.92674, saving model to BasicNN_weights.hdf5\n",
      "Epoch 2/50\n",
      "500000/500000 [==============================] - 33s 67us/step - loss: 0.1836 - acc: 0.9082 - val_loss: 0.1009 - val_acc: 0.9399\n",
      "\n",
      "Epoch 00002: val_acc improved from 0.92674 to 0.93994, saving model to BasicNN_weights.hdf5\n",
      "Epoch 3/50\n",
      "500000/500000 [==============================] - 33s 67us/step - loss: 0.1803 - acc: 0.9116 - val_loss: 0.1063 - val_acc: 0.9402\n",
      "\n",
      "Epoch 00003: val_acc improved from 0.93994 to 0.94025, saving model to BasicNN_weights.hdf5\n",
      "Epoch 4/50\n",
      "500000/500000 [==============================] - 33s 67us/step - loss: 0.1782 - acc: 0.9134 - val_loss: 0.1079 - val_acc: 0.9444\n",
      "\n",
      "Epoch 00004: val_acc improved from 0.94025 to 0.94437, saving model to BasicNN_weights.hdf5\n",
      "Epoch 5/50\n",
      "500000/500000 [==============================] - 33s 67us/step - loss: 0.1770 - acc: 0.9143 - val_loss: 0.1112 - val_acc: 0.9449\n",
      "\n",
      "Epoch 00005: val_acc improved from 0.94437 to 0.94494, saving model to BasicNN_weights.hdf5\n",
      "Epoch 6/50\n",
      "500000/500000 [==============================] - 33s 67us/step - loss: 0.1754 - acc: 0.9158 - val_loss: 0.0982 - val_acc: 0.9517\n",
      "\n",
      "Epoch 00006: val_acc improved from 0.94494 to 0.95172, saving model to BasicNN_weights.hdf5\n",
      "Epoch 7/50\n",
      "500000/500000 [==============================] - 33s 67us/step - loss: 0.1742 - acc: 0.9170 - val_loss: 0.0973 - val_acc: 0.9509\n",
      "\n",
      "Epoch 00007: val_acc did not improve from 0.95172\n",
      "Epoch 8/50\n",
      "500000/500000 [==============================] - 33s 67us/step - loss: 0.1729 - acc: 0.9179 - val_loss: 0.0997 - val_acc: 0.9475\n",
      "\n",
      "Epoch 00008: val_acc did not improve from 0.95172\n",
      "Epoch 9/50\n",
      "500000/500000 [==============================] - 33s 67us/step - loss: 0.1721 - acc: 0.9185 - val_loss: 0.1053 - val_acc: 0.9465\n",
      "\n",
      "Epoch 00009: val_acc did not improve from 0.95172\n",
      "Epoch 10/50\n",
      "500000/500000 [==============================] - 33s 67us/step - loss: 0.1709 - acc: 0.9195 - val_loss: 0.0927 - val_acc: 0.9492\n",
      "\n",
      "Epoch 00010: val_acc did not improve from 0.95172\n",
      "Epoch 11/50\n",
      "500000/500000 [==============================] - 33s 67us/step - loss: 0.1698 - acc: 0.9200 - val_loss: 0.0989 - val_acc: 0.9445\n",
      "\n",
      "Epoch 00011: val_acc did not improve from 0.95172\n",
      "Epoch 12/50\n",
      "500000/500000 [==============================] - 33s 67us/step - loss: 0.1689 - acc: 0.9209 - val_loss: 0.1019 - val_acc: 0.9429\n",
      "\n",
      "Epoch 00012: val_acc did not improve from 0.95172\n",
      "Epoch 13/50\n",
      "500000/500000 [==============================] - 34s 67us/step - loss: 0.1683 - acc: 0.9209 - val_loss: 0.0963 - val_acc: 0.9461\n",
      "\n",
      "Epoch 00013: val_acc did not improve from 0.95172\n",
      "Epoch 14/50\n",
      "500000/500000 [==============================] - 33s 67us/step - loss: 0.1674 - acc: 0.9218 - val_loss: 0.0974 - val_acc: 0.9427\n",
      "\n",
      "Epoch 00014: val_acc did not improve from 0.95172\n",
      "Epoch 15/50\n",
      "500000/500000 [==============================] - 33s 67us/step - loss: 0.1670 - acc: 0.9224 - val_loss: 0.1020 - val_acc: 0.9392\n",
      "\n",
      "Epoch 00015: val_acc did not improve from 0.95172\n",
      "Epoch 16/50\n",
      "500000/500000 [==============================] - 33s 66us/step - loss: 0.1663 - acc: 0.9230 - val_loss: 0.0980 - val_acc: 0.9421\n",
      "\n",
      "Epoch 00016: val_acc did not improve from 0.95172\n",
      "Epoch 17/50\n",
      "500000/500000 [==============================] - 33s 66us/step - loss: 0.1661 - acc: 0.9230 - val_loss: 0.0991 - val_acc: 0.9425\n",
      "\n",
      "Epoch 00017: val_acc did not improve from 0.95172\n",
      "Epoch 18/50\n",
      "500000/500000 [==============================] - 33s 66us/step - loss: 0.1652 - acc: 0.9236 - val_loss: 0.1052 - val_acc: 0.9363\n",
      "\n",
      "Epoch 00018: val_acc did not improve from 0.95172\n",
      "Epoch 19/50\n",
      "500000/500000 [==============================] - 33s 66us/step - loss: 0.1651 - acc: 0.9238 - val_loss: 0.0982 - val_acc: 0.9390\n",
      "\n",
      "Epoch 00019: val_acc did not improve from 0.95172\n",
      "Epoch 20/50\n",
      "500000/500000 [==============================] - 33s 66us/step - loss: 0.1644 - acc: 0.9242 - val_loss: 0.0994 - val_acc: 0.9396\n",
      "\n",
      "Epoch 00020: val_acc did not improve from 0.95172\n",
      "Epoch 21/50\n",
      "500000/500000 [==============================] - 33s 66us/step - loss: 0.1642 - acc: 0.9243 - val_loss: 0.0975 - val_acc: 0.9421\n",
      "\n",
      "Epoch 00021: val_acc did not improve from 0.95172\n",
      "Epoch 22/50\n",
      "500000/500000 [==============================] - 33s 66us/step - loss: 0.1637 - acc: 0.9245 - val_loss: 0.0985 - val_acc: 0.9390\n",
      "\n",
      "Epoch 00022: val_acc did not improve from 0.95172\n",
      "Epoch 23/50\n",
      "500000/500000 [==============================] - 33s 66us/step - loss: 0.1638 - acc: 0.9249 - val_loss: 0.1002 - val_acc: 0.9392\n",
      "\n",
      "Epoch 00023: val_acc did not improve from 0.95172\n",
      "Epoch 24/50\n",
      "500000/500000 [==============================] - 33s 66us/step - loss: 0.1635 - acc: 0.9249 - val_loss: 0.0977 - val_acc: 0.9394\n",
      "\n",
      "Epoch 00024: val_acc did not improve from 0.95172\n",
      "Epoch 25/50\n",
      "500000/500000 [==============================] - 33s 66us/step - loss: 0.1632 - acc: 0.9253 - val_loss: 0.1028 - val_acc: 0.9392\n",
      "\n",
      "Epoch 00025: val_acc did not improve from 0.95172\n",
      "Epoch 26/50\n",
      "500000/500000 [==============================] - 33s 66us/step - loss: 0.1630 - acc: 0.9254 - val_loss: 0.1056 - val_acc: 0.9379\n",
      "\n",
      "Epoch 00026: val_acc did not improve from 0.95172\n",
      "Epoch 27/50\n",
      "500000/500000 [==============================] - 33s 66us/step - loss: 0.1627 - acc: 0.9254 - val_loss: 0.1057 - val_acc: 0.9366\n",
      "\n",
      "Epoch 00027: val_acc did not improve from 0.95172\n",
      "Epoch 28/50\n",
      "500000/500000 [==============================] - 33s 66us/step - loss: 0.1622 - acc: 0.9255 - val_loss: 0.1057 - val_acc: 0.9359\n",
      "\n",
      "Epoch 00028: val_acc did not improve from 0.95172\n",
      "Epoch 29/50\n",
      "500000/500000 [==============================] - 33s 66us/step - loss: 0.1623 - acc: 0.9256 - val_loss: 0.1018 - val_acc: 0.9372\n",
      "\n",
      "Epoch 00029: val_acc did not improve from 0.95172\n",
      "Epoch 30/50\n",
      "500000/500000 [==============================] - 33s 66us/step - loss: 0.1621 - acc: 0.9260 - val_loss: 0.1061 - val_acc: 0.9362\n",
      "\n",
      "Epoch 00030: val_acc did not improve from 0.95172\n",
      "Epoch 31/50\n",
      "500000/500000 [==============================] - 33s 67us/step - loss: 0.1614 - acc: 0.9263 - val_loss: 0.1083 - val_acc: 0.9357\n",
      "\n",
      "Epoch 00031: val_acc did not improve from 0.95172\n",
      "Epoch 32/50\n",
      "500000/500000 [==============================] - 33s 67us/step - loss: 0.1613 - acc: 0.9263 - val_loss: 0.1045 - val_acc: 0.9377\n",
      "\n",
      "Epoch 00032: val_acc did not improve from 0.95172\n",
      "Epoch 33/50\n",
      "500000/500000 [==============================] - 33s 67us/step - loss: 0.1611 - acc: 0.9264 - val_loss: 0.1085 - val_acc: 0.9352\n",
      "\n",
      "Epoch 00033: val_acc did not improve from 0.95172\n",
      "Epoch 34/50\n",
      "500000/500000 [==============================] - 33s 67us/step - loss: 0.1610 - acc: 0.9266 - val_loss: 0.1076 - val_acc: 0.9354\n",
      "\n",
      "Epoch 00034: val_acc did not improve from 0.95172\n",
      "Epoch 35/50\n",
      "500000/500000 [==============================] - 33s 67us/step - loss: 0.1610 - acc: 0.9265 - val_loss: 0.1075 - val_acc: 0.9359\n",
      "\n",
      "Epoch 00035: val_acc did not improve from 0.95172\n",
      "Epoch 36/50\n",
      "500000/500000 [==============================] - 33s 67us/step - loss: 0.1607 - acc: 0.9269 - val_loss: 0.1092 - val_acc: 0.9358\n",
      "\n",
      "Epoch 00036: val_acc did not improve from 0.95172\n",
      "Epoch 37/50\n",
      "500000/500000 [==============================] - 33s 67us/step - loss: 0.1607 - acc: 0.9268 - val_loss: 0.1056 - val_acc: 0.9360\n",
      "\n",
      "Epoch 00037: val_acc did not improve from 0.95172\n",
      "Epoch 38/50\n",
      "500000/500000 [==============================] - 33s 67us/step - loss: 0.1603 - acc: 0.9271 - val_loss: 0.1146 - val_acc: 0.9337\n",
      "\n",
      "Epoch 00038: val_acc did not improve from 0.95172\n",
      "Epoch 39/50\n",
      "500000/500000 [==============================] - 33s 67us/step - loss: 0.1600 - acc: 0.9270 - val_loss: 0.1153 - val_acc: 0.9347\n",
      "\n",
      "Epoch 00039: val_acc did not improve from 0.95172\n",
      "Epoch 40/50\n",
      "500000/500000 [==============================] - 33s 67us/step - loss: 0.1600 - acc: 0.9273 - val_loss: 0.1110 - val_acc: 0.9342\n",
      "\n",
      "Epoch 00040: val_acc did not improve from 0.95172\n",
      "Epoch 41/50\n",
      "500000/500000 [==============================] - 33s 67us/step - loss: 0.1602 - acc: 0.9273 - val_loss: 0.1180 - val_acc: 0.9319\n",
      "\n",
      "Epoch 00041: val_acc did not improve from 0.95172\n",
      "Epoch 42/50\n",
      "500000/500000 [==============================] - 33s 67us/step - loss: 0.1596 - acc: 0.9273 - val_loss: 0.1149 - val_acc: 0.9324\n",
      "\n",
      "Epoch 00042: val_acc did not improve from 0.95172\n",
      "Epoch 43/50\n",
      "500000/500000 [==============================] - 33s 67us/step - loss: 0.1601 - acc: 0.9271 - val_loss: 0.1177 - val_acc: 0.9348\n",
      "\n",
      "Epoch 00043: val_acc did not improve from 0.95172\n",
      "Epoch 44/50\n",
      "500000/500000 [==============================] - 33s 67us/step - loss: 0.1595 - acc: 0.9276 - val_loss: 0.1080 - val_acc: 0.9353\n",
      "\n",
      "Epoch 00044: val_acc did not improve from 0.95172\n",
      "Epoch 45/50\n",
      "500000/500000 [==============================] - 33s 67us/step - loss: 0.1594 - acc: 0.9274 - val_loss: 0.1106 - val_acc: 0.9344\n",
      "\n",
      "Epoch 00045: val_acc did not improve from 0.95172\n",
      "Epoch 46/50\n",
      "500000/500000 [==============================] - 33s 67us/step - loss: 0.1595 - acc: 0.9275 - val_loss: 0.1131 - val_acc: 0.9344\n",
      "\n",
      "Epoch 00046: val_acc did not improve from 0.95172\n",
      "Epoch 47/50\n",
      "500000/500000 [==============================] - 33s 67us/step - loss: 0.1591 - acc: 0.9278 - val_loss: 0.1158 - val_acc: 0.9332\n",
      "\n",
      "Epoch 00047: val_acc did not improve from 0.95172\n",
      "Epoch 48/50\n",
      "500000/500000 [==============================] - 33s 67us/step - loss: 0.1593 - acc: 0.9276 - val_loss: 0.1139 - val_acc: 0.9333\n",
      "\n",
      "Epoch 00048: val_acc did not improve from 0.95172\n",
      "Epoch 49/50\n",
      "500000/500000 [==============================] - 33s 67us/step - loss: 0.1586 - acc: 0.9281 - val_loss: 0.1165 - val_acc: 0.9320\n",
      "\n",
      "Epoch 00049: val_acc did not improve from 0.95172\n",
      "Epoch 50/50\n",
      "500000/500000 [==============================] - 33s 67us/step - loss: 0.1586 - acc: 0.9279 - val_loss: 0.1150 - val_acc: 0.9316\n",
      "\n",
      "Epoch 00050: val_acc did not improve from 0.95172\n",
      "CPU times: user 15min 2s, sys: 6min 42s, total: 21min 45s\n",
      "Wall time: 28min 36s\n"
     ]
    }
   ],
   "source": [
    "%%time\n",
    "filepath=\"BasicNN_weights.hdf5\"\n",
    "checkpoint = ModelCheckpoint(filepath, monitor='val_acc', verbose=1, save_best_only=True, mode='max')\n",
    "callbacks_list = [checkpoint]\n",
    "history = vcnn.fit(X_train, Y_train, epochs = 50, validation_data=(X_dev,Y_dev), callbacks=callbacks_list, batch_size = 8192, shuffle=True)"
   ]
  },
  {
   "cell_type": "code",
   "execution_count": 17,
   "metadata": {},
   "outputs": [
    {
     "data": {
      "image/png": "[encoded data removed]",
      "text/plain": [
       "<Figure size 432x288 with 1 Axes>"
      ]
     },
     "metadata": {},
     "output_type": "display_data"
    }
   ],
   "source": [
    "############### 4 - RESULTS ############### \n",
    "## Diagnosing the learning phase\n",
    "losses = history.history[\"loss\"]\n",
    "epoch = history.epoch\n",
    "plt.xlabel('Epoch')\n",
    "plt.ylabel('Losses')\n",
    "plt.scatter(epoch, losses)\n",
    "plt.show()"
   ]
  },
  {
   "cell_type": "code",
   "execution_count": 18,
   "metadata": {},
   "outputs": [
    {
     "data": {
      "image/png": "[encoded data removed]",
      "text/plain": [
       "<Figure size 432x288 with 1 Axes>"
      ]
     },
     "metadata": {},
     "output_type": "display_data"
    }
   ],
   "source": [
    "## Diagnosing the learning phase\n",
    "losses = history.history[\"val_loss\"]\n",
    "epoch = history.epoch\n",
    "plt.xlabel('Epoch')\n",
    "plt.ylabel('Validation Loss')\n",
    "plt.scatter(epoch, losses)\n",
    "plt.show()"
   ]
  },
  {
   "cell_type": "code",
   "execution_count": 19,
   "metadata": {},
   "outputs": [
    {
     "data": {
      "image/png": "[encoded data removed]",
      "text/plain": [
       "<Figure size 432x288 with 1 Axes>"
      ]
     },
     "metadata": {},
     "output_type": "display_data"
    }
   ],
   "source": [
    "# Plot the accuracies\n",
    "acc = history.history[\"acc\"]\n",
    "epoch = history.epoch\n",
    "plt.xlabel('Epoch')\n",
    "plt.ylabel('Accuracy')\n",
    "plt.scatter(epoch, acc)\n",
    "plt.title('Evolution of accuracy per epoch')\n",
    "plt.show()"
   ]
  },
  {
   "cell_type": "code",
   "execution_count": 20,
   "metadata": {},
   "outputs": [
    {
     "data": {
      "image/png": "[encoded data removed]",
      "text/plain": [
       "<Figure size 432x288 with 1 Axes>"
      ]
     },
     "metadata": {},
     "output_type": "display_data"
    }
   ],
   "source": [
    "# Plot the accuracies\n",
    "acc = history.history[\"val_acc\"]\n",
    "epoch = history.epoch\n",
    "plt.xlabel('Epoch')\n",
    "plt.ylabel('Validation Accuracy')\n",
    "plt.scatter(epoch, acc)\n",
    "plt.title('Evolution of accuracy per epoch')\n",
    "plt.show()"
   ]
  },
  {
   "cell_type": "code",
   "execution_count": 21,
   "metadata": {},
   "outputs": [
    {
     "name": "stdout",
     "output_type": "stream",
     "text": [
      "500000/500000 [==============================] - 16s 33us/step\n",
      "100000/100000 [==============================] - 4s 42us/step\n",
      "training error: [0.15430725483226776, 0.9301419999847412]\n",
      "validation error: [0.11502105465888977, 0.9316349997520447]\n"
     ]
    }
   ],
   "source": [
    "training_error = vcnn.evaluate(X_train,Y_train, batch_size = 8192)\n",
    "validation_error = vcnn.evaluate(X_dev,Y_dev, batch_size = 8192)\n",
    "print(\"training error:\", training_error)\n",
    "print(\"validation error:\", validation_error)"
   ]
  },
  {
   "cell_type": "code",
   "execution_count": 22,
   "metadata": {
    "collapsed": true
   },
   "outputs": [],
   "source": [
    "## Saving the weights and the history after 50 epochs\n",
    "vcnn.save('BasicNN_final.h5')\n",
    "training = history.history\n",
    "sio.savemat('BasicNN_history.mat', training)"
   ]
  },
  {
   "cell_type": "code",
   "execution_count": null,
   "metadata": {
    "collapsed": true
   },
   "outputs": [],
   "source": []
  }
 ],
 "metadata": {
  "kernelspec": {
   "display_name": "Python 3",
   "language": "python",
   "name": "python3"
  },
  "language_info": {
   "codemirror_mode": {
    "name": "ipython",
    "version": 3
   },
   "file_extension": ".py",
   "mimetype": "text/x-python",
   "name": "python",
   "nbconvert_exporter": "python",
   "pygments_lexer": "ipython3",
   "version": "3.6.3"
  }
 },
 "nbformat": 4,
 "nbformat_minor": 2
}
