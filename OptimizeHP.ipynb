{
 "cells": [
  {
   "cell_type": "code",
   "execution_count": 1,
   "metadata": {
    "scrolled": true
   },
   "outputs": [
    {
     "name": "stdout",
     "output_type": "stream",
     "text": [
      "Collecting gpyopt\n",
      "\u001b[?25l  Downloading https://files.pythonhosted.org/packages/9c/40/ca8f080d74d9f4e29069faa944fcfb083e8693b6daaba0f1e4bc65c88650/GPyOpt-1.2.5.tar.gz (55kB)\n",
      "\u001b[K    100% |████████████████████████████████| 61kB 3.7MB/s \n",
      "\u001b[?25hRequirement already satisfied: numpy>=1.7 in /usr/local/lib/python3.6/site-packages (from gpyopt) (1.15.1)\n",
      "Requirement already satisfied: scipy>=0.16 in /usr/local/lib/python3.6/site-packages (from gpyopt) (1.1.0)\n",
      "Collecting GPy>=1.8 (from gpyopt)\n",
      "\u001b[?25l  Downloading https://files.pythonhosted.org/packages/98/7d/e55ffc3b16b68e8b50ccecacec56715bcf49d5c2f204f5ba60374d419611/GPy-1.9.6.tar.gz (873kB)\n",
      "\u001b[K    100% |████████████████████████████████| 880kB 7.0MB/s \n",
      "\u001b[?25hRequirement already satisfied: six in /usr/local/lib/python3.6/site-packages (from GPy>=1.8->gpyopt) (1.11.0)\n",
      "Collecting paramz>=0.9.0 (from GPy>=1.8->gpyopt)\n",
      "\u001b[?25l  Downloading https://files.pythonhosted.org/packages/fd/78/b0f0164a32518bfd3b98cb2e149b7a4d5504d13fb503b31a6c59b958ed18/paramz-0.9.4.tar.gz (70kB)\n",
      "\u001b[K    100% |████████████████████████████████| 71kB 10.1MB/s \n",
      "\u001b[?25hRequirement already satisfied: decorator>=4.0.10 in /usr/local/lib/python3.6/site-packages (from paramz>=0.9.0->GPy>=1.8->gpyopt) (4.3.0)\n",
      "Building wheels for collected packages: gpyopt, GPy, paramz\n",
      "  Running setup.py bdist_wheel for gpyopt ... \u001b[?25ldone\n",
      "\u001b[?25h  Stored in directory: /root/.cache/pip/wheels/33/1d/87/dc02440831ba986b1547dd11a7dcd44e893b0527083066d869\n",
      "  Running setup.py bdist_wheel for GPy ... \u001b[?25ldone\n",
      "\u001b[?25h  Stored in directory: /root/.cache/pip/wheels/97/82/1d/32a361e1ff2b4d9129a60343831dd99cdc74440e2db1c55264\n",
      "  Running setup.py bdist_wheel for paramz ... \u001b[?25ldone\n",
      "\u001b[?25h  Stored in directory: /root/.cache/pip/wheels/a9/fc/74/3bbd263c43ed98d67343df24cebf0a0ee34afee40d769fda9c\n",
      "Successfully built gpyopt GPy paramz\n",
      "\u001b[31mmenpo 0.8.1 has requirement matplotlib<2.0,>=1.4, but you'll have matplotlib 2.2.3 which is incompatible.\u001b[0m\n",
      "\u001b[31mmenpo 0.8.1 has requirement pillow<5.0,>=3.0, but you'll have pillow 5.2.0 which is incompatible.\u001b[0m\n",
      "\u001b[31mmenpo 0.8.1 has requirement scipy<1.0,>=0.16, but you'll have scipy 1.1.0 which is incompatible.\u001b[0m\n",
      "Installing collected packages: paramz, GPy, gpyopt\n",
      "Successfully installed GPy-1.9.6 gpyopt-1.2.5 paramz-0.9.4\n",
      "\u001b[33mYou are using pip version 10.0.1, however version 18.1 is available.\n",
      "You should consider upgrading via the 'pip install --upgrade pip' command.\u001b[0m\n"
     ]
    }
   ],
   "source": [
    "! pip install gpyopt"
   ]
  },
  {
   "cell_type": "code",
   "execution_count": 2,
   "metadata": {},
   "outputs": [
    {
     "name": "stderr",
     "output_type": "stream",
     "text": [
      "Using TensorFlow backend.\n"
     ]
    }
   ],
   "source": [
    "########## 0 - Importing relevant libraries\n",
    "import h5py\n",
    "import sklearn\n",
    "import matplotlib.pyplot as plt\n",
    "import GPyOpt\n",
    "import GPy\n",
    "\n",
    "from keras.wrappers.scikit_learn import KerasClassifier\n",
    "from keras.constraints import maxnorm\n",
    "\n",
    "import numpy as np\n",
    "import keras\n",
    "from keras.utils import to_categorical\n",
    "from keras.models import Sequential\n",
    "from keras.layers import Dense, Dropout \n",
    "from keras.layers.normalization import BatchNormalization\n",
    "from keras.layers import Dense, Dropout, Conv1D, Flatten, MaxPooling1D \n",
    "from keras import initializers\n",
    "from keras import regularizers , optimizers\n",
    "import scipy.io as sio"
   ]
  },
  {
   "cell_type": "code",
   "execution_count": 3,
   "metadata": {
    "collapsed": true
   },
   "outputs": [],
   "source": [
    "###############  1 - LOADING PORTION OF TRAINING AND DEV SET ############### \n",
    "## loading training set\n",
    "train = h5py.File('/floyd/input/echogrampreprocessed/EchogramPreprocessed.mat','r')\n",
    "label_train = np.array(train['label'])\n",
    "X_train = np.array(train['EchogramWithBottom'])"
   ]
  },
  {
   "cell_type": "code",
   "execution_count": 4,
   "metadata": {
    "collapsed": true
   },
   "outputs": [],
   "source": [
    "## 1.2 - Resizing the training set, \n",
    "# in fact there is too many pings ~2.3 million it won't fit into memory\n",
    "np.random.seed(7)\n",
    "m,_ = X_train.shape\n",
    "index = np.random.choice(m,500000,replace=False)\n",
    "label_train = label_train[index,:]\n",
    "X_train = X_train[index,:]"
   ]
  },
  {
   "cell_type": "code",
   "execution_count": 5,
   "metadata": {
    "collapsed": true
   },
   "outputs": [],
   "source": [
    "## 1.3 - Preprocessing step\n",
    "# Replacing Nan with -200\n",
    "X_train = np.add(np.nan_to_num(X_train),np.isnan(X_train) * -200)"
   ]
  },
  {
   "cell_type": "code",
   "execution_count": 6,
   "metadata": {
    "collapsed": true
   },
   "outputs": [],
   "source": [
    "## 1.4 - loading development set\n",
    "dev = sio.loadmat('/floyd/input/devset/EchogramDev.mat')\n",
    "X_dev = np.array(dev['Echogram'])\n",
    "label_dev = np.array(dev['label'])\n",
    "\n",
    "# Replacing Nan with -200\n",
    "X_dev = np.add(np.nan_to_num(X_dev), np.isnan(X_dev) * -200)"
   ]
  },
  {
   "cell_type": "code",
   "execution_count": 8,
   "metadata": {
    "collapsed": true
   },
   "outputs": [],
   "source": [
    "############### 2 - RESHAPE THE TWO DATASETS  ############### \n",
    "##  Reshaping the data to feed the convolutional neural network\n",
    "m_train,n = X_train.shape\n",
    "m_dev,n = X_dev.shape\n",
    "X_train = X_train.reshape(m_train,n,1)\n",
    "X_dev = X_dev.reshape(m_dev,n,1)\n",
    "\n",
    "Y_train = to_categorical(label_train)\n",
    "Y_train = Y_train[:,1:]\n",
    "\n",
    "Y_dev =  to_categorical(label_dev)\n",
    "Y_dev =  Y_dev[:,1:]"
   ]
  },
  {
   "cell_type": "code",
   "execution_count": 15,
   "metadata": {},
   "outputs": [
    {
     "name": "stdout",
     "output_type": "stream",
     "text": [
      "_________________________________________________________________\n",
      "Layer (type)                 Output Shape              Param #   \n",
      "=================================================================\n",
      "conv1d_64 (Conv1D)           (None, 1254, 1)           44        \n",
      "_________________________________________________________________\n",
      "batch_normalization_64 (Batc (None, 1254, 1)           4         \n",
      "_________________________________________________________________\n",
      "max_pooling1d_64 (MaxPooling (None, 1212, 1)           0         \n",
      "_________________________________________________________________\n",
      "conv1d_65 (Conv1D)           (None, 1191, 1)           23        \n",
      "_________________________________________________________________\n",
      "batch_normalization_65 (Batc (None, 1191, 1)           4         \n",
      "_________________________________________________________________\n",
      "max_pooling1d_65 (MaxPooling (None, 1170, 1)           0         \n",
      "_________________________________________________________________\n",
      "conv1d_66 (Conv1D)           (None, 1128, 1)           44        \n",
      "_________________________________________________________________\n",
      "batch_normalization_66 (Batc (None, 1128, 1)           4         \n",
      "_________________________________________________________________\n",
      "max_pooling1d_66 (MaxPooling (None, 1086, 1)           0         \n",
      "_________________________________________________________________\n",
      "flatten_22 (Flatten)         (None, 1086)              0         \n",
      "_________________________________________________________________\n",
      "dropout_62 (Dropout)         (None, 1086)              0         \n",
      "_________________________________________________________________\n",
      "dense_85 (Dense)             (None, 325)               353275    \n",
      "_________________________________________________________________\n",
      "dense_86 (Dense)             (None, 293)               95518     \n",
      "_________________________________________________________________\n",
      "dense_87 (Dense)             (None, 74)                21756     \n",
      "_________________________________________________________________\n",
      "dense_88 (Dense)             (None, 2)                 150       \n",
      "=================================================================\n",
      "Total params: 470,822\n",
      "Trainable params: 470,816\n",
      "Non-trainable params: 6\n",
      "_________________________________________________________________\n"
     ]
    }
   ],
   "source": [
    "############### 3 - BAYESIAN OPTIMIZATION  ############### \n",
    "# 3.1 - We start by evaluating a model that we found quite effective \n",
    "# the hyperparmeters tuning was done by hand\n",
    "def variable_CNN(dropout1, kernel_1, kernel_2, kernel_3, no_unit1, no_unit2, no_unit3):\n",
    "    # create model\n",
    "    model = Sequential()\n",
    "    ## 1st Conv Layer\n",
    "    model.add(Conv1D(input_shape=[2550,1], filters=1, kernel_size=kernel_1, strides=2, activation='selu'))\n",
    "    model.add(BatchNormalization(axis=-1))\n",
    "    model.add(MaxPooling1D(pool_size=kernel_1, strides=1, padding='valid'))  \n",
    "    ## 2nd Conv Layer\n",
    "    model.add(Conv1D(filters=1, kernel_size=kernel_2, strides=1, activation='selu'))\n",
    "    model.add(BatchNormalization(axis=-1))\n",
    "    model.add(MaxPooling1D(pool_size=kernel_2, strides=1, padding='valid')) \n",
    "    ## 3rd Conv Layer\n",
    "    model.add(Conv1D(filters=1, kernel_size=kernel_3, strides=1, activation='selu'))\n",
    "    model.add(BatchNormalization(axis=-1))\n",
    "    model.add(MaxPooling1D(pool_size=kernel_3, strides=1, padding='valid')) \n",
    "    model.add(Flatten())\n",
    "    ## Fully Connected Layers\n",
    "    model.add(Dropout(dropout1))\n",
    "    model.add(Dense(no_unit1,kernel_initializer=\"normal\", bias_initializer='zeros', activation='selu',kernel_constraint=maxnorm(3)))\n",
    "    model.add(Dense(no_unit2,kernel_initializer=\"normal\", bias_initializer='zeros', activation='selu',kernel_constraint=maxnorm(3)))\n",
    "    model.add(Dense(no_unit3,kernel_initializer=\"normal\", bias_initializer='zeros', activation='selu',kernel_constraint=maxnorm(3)))\n",
    "    model.add(Dense(2, kernel_initializer=\"normal\", bias_initializer='zeros', activation='sigmoid')) \n",
    "    model.compile(loss='categorical_crossentropy', optimizer='adam',metrics=['accuracy'])\n",
    "    return model    \n",
    "\n",
    "\n",
    "vnn = variable_CNN(0.6, 43,  22,  43, 325, 293,  74)\n",
    "vnn.summary()"
   ]
  },
  {
   "cell_type": "code",
   "execution_count": 16,
   "metadata": {},
   "outputs": [
    {
     "name": "stdout",
     "output_type": "stream",
     "text": [
      "Train on 500000 samples, validate on 100000 samples\n",
      "Epoch 1/1\n",
      "500000/500000 [==============================] - 34s 67us/step - loss: 0.2072 - acc: 0.8991 - val_loss: 0.2223 - val_acc: 0.8435\n"
     ]
    },
    {
     "data": {
      "text/plain": [
       "0.22234930213928222"
      ]
     },
     "execution_count": 16,
     "metadata": {},
     "output_type": "execute_result"
    }
   ],
   "source": [
    "# 3.2 We evaluate the loss with this model to get a standard value.\n",
    "history = vnn.fit(X_train, Y_train, epochs = 1, validation_data=(X_dev,Y_dev), batch_size = 8192, shuffle=True)\n",
    "baseline_score = history.history[\"val_loss\"][0]\n",
    "baseline_score"
   ]
  },
  {
   "cell_type": "code",
   "execution_count": 17,
   "metadata": {
    "collapsed": true
   },
   "outputs": [],
   "source": [
    "# 3.3 Optimization procedure\n",
    "# We will make the hyperparameters to vary within the bounds that we define\n",
    "# down below.\n",
    "def variable_CNN(kernel_1, kernel_2, kernel_3, no_unit1, no_unit2, no_unit3, dropout1, dropout2, dropout3):\n",
    "    # create model\n",
    "    model = Sequential()\n",
    "    ## 1st Conv Layer\n",
    "    model.add(Conv1D(input_shape=[2550,1], filters=1, kernel_size=kernel_1, strides=2, activation='selu'))\n",
    "    model.add(BatchNormalization(axis=-1))\n",
    "    model.add(MaxPooling1D(pool_size=kernel_1, strides=1, padding='valid'))  \n",
    "    ## 2nd Conv Layer\n",
    "    model.add(Conv1D(filters=1, kernel_size=kernel_2, strides=1, activation='selu'))\n",
    "    model.add(BatchNormalization(axis=-1))\n",
    "    model.add(MaxPooling1D(pool_size=kernel_2, strides=1, padding='valid')) \n",
    "    ## 3rd Conv Layer\n",
    "    model.add(Conv1D(filters=1, kernel_size=kernel_3, strides=1, activation='selu'))\n",
    "    model.add(BatchNormalization(axis=-1))\n",
    "    model.add(MaxPooling1D(pool_size=kernel_3, strides=1, padding='valid')) \n",
    "    model.add(Flatten())\n",
    "    model.add(Dropout(dropout1))\n",
    "    model.add(Dense(no_unit1,kernel_initializer=\"normal\", bias_initializer='zeros', activation='selu', kernel_constraint=maxnorm(3)))\n",
    "    model.add(Dropout(dropout2))\n",
    "    model.add(Dense(no_unit2,kernel_initializer=\"normal\", bias_initializer='zeros', activation='selu', kernel_constraint=maxnorm(3)))\n",
    "    model.add(Dropout(dropout3))\n",
    "    model.add(Dense(no_unit3,kernel_initializer=\"normal\", bias_initializer='zeros', activation='selu', kernel_constraint=maxnorm(3)))\n",
    "    model.add(Dense(2, kernel_initializer=\"normal\", bias_initializer='zeros', activation='sigmoid')) \n",
    "    # Custom optimizer\n",
    "\t# Compile model\n",
    "    model.compile(loss='binary_crossentropy', optimizer = 'adam', metrics=['accuracy'])\n",
    "    return model    \n",
    "\n",
    "# Function to optimize\n",
    "# We aim to maximize this function with respect to the parameters\n",
    "# learning_rate and no_unit_layer1\n",
    "def f(x):\n",
    "    kernel_1 = int(x[:,0])\n",
    "    kernel_2 = int(x[:,1])\n",
    "    kernel_3 = int(x[:,2])\n",
    "    no_unit1 = int(x[:,3])\n",
    "    no_unit2 = int(x[:,4])\n",
    "    no_unit3 = int(x[:,5])\n",
    "    dropout1 = int(x[:,6])\n",
    "    dropout2 = int(x[:,7])\n",
    "    dropout3 = int(x[:,8])\n",
    "    vnn = variable_CNN(kernel_1 ,  kernel_2,  kernel_3 , no_unit1, no_unit2, no_unit3,dropout1, dropout2, dropout3)\n",
    "    history = vnn.fit(X_train, Y_train, epochs = 1, validation_data=(X_dev,Y_dev), batch_size = 8192, shuffle=True)\n",
    "    score = history.history[\"val_loss\"][0]\n",
    "    return score\n",
    "\n",
    "bounds = [\n",
    "            {'name': 'kernel_1', 'type': 'discrete', 'domain': np.arange(5,60)},        \n",
    "            {'name': 'kernel_2', 'type': 'discrete', 'domain': np.arange(5,60)},\n",
    "            {'name': 'kernel_3', 'type': 'discrete', 'domain': np.arange(5,60)},        \n",
    "            {'name': 'no_unit1', 'type': 'discrete', 'domain': np.arange(5,600)},\n",
    "            {'name': 'no_unit2', 'type': 'discrete', 'domain': np.arange(5,320)},    \n",
    "            {'name': 'no_unit3', 'type': 'discrete', 'domain': np.arange(5,160)}, \n",
    "            {'name': 'dropout1', 'type': 'discrete', 'domain': np.arange(0.0,1.0,0.1)}, \n",
    "            {'name': 'dropout2', 'type': 'discrete', 'domain': np.arange(0.0,1.0,0.1)}, \n",
    "            {'name': 'dropout3', 'type': 'discrete', 'domain': np.arange(0.0,1.0,0.1)},     \n",
    "         ]"
   ]
  },
  {
   "cell_type": "code",
   "execution_count": 18,
   "metadata": {
    "scrolled": true
   },
   "outputs": [
    {
     "name": "stdout",
     "output_type": "stream",
     "text": [
      "Train on 500000 samples, validate on 100000 samples\n",
      "Epoch 1/1\n",
      "500000/500000 [==============================] - 33s 65us/step - loss: 0.2002 - acc: 0.8991 - val_loss: 0.2152 - val_acc: 0.7585\n",
      "Train on 500000 samples, validate on 100000 samples\n",
      "Epoch 1/1\n",
      "500000/500000 [==============================] - 32s 64us/step - loss: 0.2749 - acc: 0.8824 - val_loss: 0.2734 - val_acc: 0.7570\n",
      "Train on 500000 samples, validate on 100000 samples\n",
      "Epoch 1/1\n",
      "500000/500000 [==============================] - 30s 61us/step - loss: 0.2044 - acc: 0.8998 - val_loss: 0.0945 - val_acc: 0.9457\n",
      "Train on 500000 samples, validate on 100000 samples\n",
      "Epoch 1/1\n",
      "500000/500000 [==============================] - 30s 60us/step - loss: 0.2108 - acc: 0.8994 - val_loss: 0.3903 - val_acc: 0.7570\n",
      "Train on 500000 samples, validate on 100000 samples\n",
      "Epoch 1/1\n",
      "500000/500000 [==============================] - 37s 75us/step - loss: 0.2192 - acc: 0.8986 - val_loss: 0.3255 - val_acc: 0.7571\n"
     ]
    }
   ],
   "source": [
    "# The bayesion procedure will at each turn evaluate a set of hyperparameters.\n",
    "optimizer = GPyOpt.methods.BayesianOptimization(f=f, domain=bounds,\n",
    "                                                        acquisition_type = 'EI',\n",
    "                                                        acquisition_par = 0.1,                                                    \n",
    "                                                        model_type='GP')"
   ]
  },
  {
   "cell_type": "code",
   "execution_count": 19,
   "metadata": {},
   "outputs": [
    {
     "name": "stdout",
     "output_type": "stream",
     "text": [
      "Train on 500000 samples, validate on 100000 samples\n",
      "Epoch 1/1\n",
      "500000/500000 [==============================] - 34s 69us/step - loss: 0.1983 - acc: 0.8989 - val_loss: 0.2444 - val_acc: 0.8160\n",
      "Train on 500000 samples, validate on 100000 samples\n",
      "Epoch 1/1\n",
      "500000/500000 [==============================] - 33s 66us/step - loss: 0.2553 - acc: 0.9003 - val_loss: 0.2858 - val_acc: 0.7570\n",
      "Train on 500000 samples, validate on 100000 samples\n",
      "Epoch 1/1\n",
      "500000/500000 [==============================] - 38s 76us/step - loss: 0.2044 - acc: 0.9028 - val_loss: 0.2591 - val_acc: 0.7570\n",
      "Train on 500000 samples, validate on 100000 samples\n",
      "Epoch 1/1\n",
      "500000/500000 [==============================] - 33s 66us/step - loss: 0.2240 - acc: 0.8985 - val_loss: 0.2784 - val_acc: 0.7570\n",
      "Train on 500000 samples, validate on 100000 samples\n",
      "Epoch 1/1\n",
      "500000/500000 [==============================] - 35s 69us/step - loss: 0.2055 - acc: 0.8979 - val_loss: 0.3100 - val_acc: 0.7570\n",
      "Train on 500000 samples, validate on 100000 samples\n",
      "Epoch 1/1\n",
      "500000/500000 [==============================] - 38s 77us/step - loss: 0.2024 - acc: 0.9004 - val_loss: 0.2472 - val_acc: 0.7591\n",
      "Train on 500000 samples, validate on 100000 samples\n",
      "Epoch 1/1\n",
      "500000/500000 [==============================] - 39s 78us/step - loss: 0.2196 - acc: 0.8914 - val_loss: 0.2834 - val_acc: 0.7571\n",
      "Train on 500000 samples, validate on 100000 samples\n",
      "Epoch 1/1\n",
      "500000/500000 [==============================] - 38s 77us/step - loss: 0.2334 - acc: 0.8974 - val_loss: 0.3401 - val_acc: 0.7437\n",
      "Train on 500000 samples, validate on 100000 samples\n",
      "Epoch 1/1\n",
      "500000/500000 [==============================] - 37s 73us/step - loss: 0.4204 - acc: 0.8694 - val_loss: 0.0907 - val_acc: 0.9864\n",
      "Train on 500000 samples, validate on 100000 samples\n",
      "Epoch 1/1\n",
      "500000/500000 [==============================] - 33s 66us/step - loss: 0.2513 - acc: 0.8920 - val_loss: 0.2528 - val_acc: 0.7570\n",
      "Train on 500000 samples, validate on 100000 samples\n",
      "Epoch 1/1\n",
      "500000/500000 [==============================] - 39s 78us/step - loss: 0.1995 - acc: 0.8993 - val_loss: 0.1488 - val_acc: 0.9144\n",
      "Train on 500000 samples, validate on 100000 samples\n",
      "Epoch 1/1\n",
      "500000/500000 [==============================] - 39s 78us/step - loss: 0.2084 - acc: 0.9016 - val_loss: 0.2897 - val_acc: 0.7570\n",
      "Train on 500000 samples, validate on 100000 samples\n",
      "Epoch 1/1\n",
      "500000/500000 [==============================] - 36s 71us/step - loss: 0.2608 - acc: 0.8835 - val_loss: 0.1149 - val_acc: 0.9430\n",
      "Train on 500000 samples, validate on 100000 samples\n",
      "Epoch 1/1\n",
      "500000/500000 [==============================] - 37s 74us/step - loss: 0.2249 - acc: 0.8995 - val_loss: 0.3057 - val_acc: 0.7570\n",
      "Train on 500000 samples, validate on 100000 samples\n",
      "Epoch 1/1\n",
      "500000/500000 [==============================] - 35s 71us/step - loss: 0.2001 - acc: 0.8977 - val_loss: 0.1378 - val_acc: 0.9864\n",
      "CPU times: user 6min 19s, sys: 1min 57s, total: 8min 16s\n",
      "Wall time: 9min 37s\n"
     ]
    }
   ],
   "source": [
    "%%time\n",
    "optimizer.run_optimization(max_iter=15, eps=-1)"
   ]
  },
  {
   "cell_type": "code",
   "execution_count": 20,
   "metadata": {},
   "outputs": [
    {
     "name": "stdout",
     "output_type": "stream",
     "text": [
      "kernel1, kernel2, kernel3: [56. 54. 13.]\n",
      "no_unit1, no_unit2, no_unit3: [303. 202.  81.]\n",
      "dropout1, dropout2, dropout3: [0.5 0.6 0. ]\n"
     ]
    },
    {
     "data": {
      "image/png": "[encoded data removed]",
      "text/plain": [
       "<Figure size 720x360 with 2 Axes>"
      ]
     },
     "metadata": {},
     "output_type": "display_data"
    },
    {
     "name": "stdout",
     "output_type": "stream",
     "text": [
      "performance_boost: % 145.12159984888183\n"
     ]
    }
   ],
   "source": [
    "# Output the hyperparameters with the lowest loss\n",
    "best_hyperparameters = optimizer.X[np.argmin(optimizer.Y)]\n",
    "print('kernel1, kernel2, kernel3:', best_hyperparameters[0:3])\n",
    "print('no_unit1, no_unit2, no_unit3:', best_hyperparameters[3:6])\n",
    "print('dropout1, dropout2, dropout3:',best_hyperparameters[6:9])\n",
    "\n",
    "# Plot the optimizer convergence\n",
    "# two graphs, the first describe the distance between a set of hyperparameters\n",
    "# at a given evaluation to another; the second graph shows an evolution\n",
    "# of the value of the lowest loss we found.\n",
    "optimizer.plot_convergence()\n",
    "\n",
    "# Measuring the performance improvement\n",
    "performance_boost = (baseline_score/np.min(optimizer.Y) -1)*100\n",
    "print('performance_boost: %',performance_boost)"
   ]
  },
  {
   "cell_type": "code",
   "execution_count": null,
   "metadata": {
    "collapsed": true
   },
   "outputs": [],
   "source": []
  }
 ],
 "metadata": {
  "kernelspec": {
   "display_name": "Python 3",
   "language": "python",
   "name": "python3"
  },
  "language_info": {
   "codemirror_mode": {
    "name": "ipython",
    "version": 3
   },
   "file_extension": ".py",
   "mimetype": "text/x-python",
   "name": "python",
   "nbconvert_exporter": "python",
   "pygments_lexer": "ipython3",
   "version": "3.6.3"
  }
 },
 "nbformat": 4,
 "nbformat_minor": 2
}
